{
 "cells": [
  {
   "cell_type": "code",
   "execution_count": 2,
   "id": "7a4bf9e5",
   "metadata": {},
   "outputs": [],
   "source": [
    "# test with select ground truth masks\n",
    "\n",
    "import argparse\n"
   ]
  },
  {
   "cell_type": "code",
   "execution_count": null,
   "id": "3b3015d8",
   "metadata": {},
   "outputs": [],
   "source": [
    "# parser prases\n",
    "\n",
    "parser = argparse.ArgumentParser(description= 'train data on specified ground truth type from data_prep.py')\n",
    "parser.add_argument('-g','--groundtruth', type = str, metavar = '', required = True, help = 'type of ground truth training image: textmask, binary, color, gaug color, gaug text mask')\n",
    "args = parser.parse_args()\n"
   ]
  },
  {
   "cell_type": "code",
   "execution_count": null,
   "id": "0da56a1c",
   "metadata": {},
   "outputs": [],
   "source": [
    "# paths\n",
    "\n"
   ]
  },
  {
   "cell_type": "code",
   "execution_count": null,
   "id": "efc80195",
   "metadata": {},
   "outputs": [],
   "source": [
    "# set up envi aka Optimizer, Net, Loss_func, transforms, and load data\n",
    "\n"
   ]
  },
  {
   "cell_type": "code",
   "execution_count": null,
   "id": "1ec603d4",
   "metadata": {},
   "outputs": [],
   "source": [
    "# train on custom\n",
    "\n",
    "# make and save pred masks to disk\n",
    "\n",
    "# do evals and save eval visualizations\n"
   ]
  },
  {
   "cell_type": "code",
   "execution_count": null,
   "id": "677059cd",
   "metadata": {},
   "outputs": [],
   "source": [
    "if __name__ == '__main__':\n",
    "    mk_mask(args.typemask)"
   ]
  }
 ],
 "metadata": {
  "kernelspec": {
   "display_name": "Python 3 (ipykernel)",
   "language": "python",
   "name": "python3"
  },
  "language_info": {
   "codemirror_mode": {
    "name": "ipython",
    "version": 3
   },
   "file_extension": ".py",
   "mimetype": "text/x-python",
   "name": "python",
   "nbconvert_exporter": "python",
   "pygments_lexer": "ipython3",
   "version": "3.9.7"
  }
 },
 "nbformat": 4,
 "nbformat_minor": 5
}

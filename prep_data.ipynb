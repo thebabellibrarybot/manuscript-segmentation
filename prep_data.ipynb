{
 "cells": [
  {
   "cell_type": "code",
   "execution_count": 1,
   "id": "6dd54f31",
   "metadata": {},
   "outputs": [],
   "source": [
    "import pandas as pd\n",
    "import os\n",
    "from src.data_prep.masks_mker import mask_info, mk_binary_mask, mk_color_mask, mk_textmask\n",
    "import argparse"
   ]
  },
  {
   "cell_type": "code",
   "execution_count": 2,
   "id": "99ca5731",
   "metadata": {},
   "outputs": [
    {
     "name": "stderr",
     "output_type": "stream",
     "text": [
      "usage: ipykernel_launcher.py [-h] -t\n",
      "ipykernel_launcher.py: error: the following arguments are required: -t/--type_of_mask\n"
     ]
    },
    {
     "ename": "SystemExit",
     "evalue": "2",
     "output_type": "error",
     "traceback": [
      "An exception has occurred, use %tb to see the full traceback.\n",
      "\u001b[0;31mSystemExit\u001b[0m\u001b[0;31m:\u001b[0m 2\n"
     ]
    },
    {
     "name": "stderr",
     "output_type": "stream",
     "text": [
      "/home/mumbot/anaconda3/lib/python3.9/site-packages/IPython/core/interactiveshell.py:3452: UserWarning: To exit: use 'exit', 'quit', or Ctrl-D.\n",
      "  warn(\"To exit: use 'exit', 'quit', or Ctrl-D.\", stacklevel=1)\n"
     ]
    }
   ],
   "source": [
    "# args\n",
    "\n",
    "parser = argparse.ArgumentParser(description= 'prep data from test and train dirs to disk for training')\n",
    "parser.add_argument('-t','--typemask', type = str, metavar = '', required = True, help = 'type of training image to make: all, binary, color, gaug color, gaug text mask')\n",
    "args = parser.parse_args()"
   ]
  },
  {
   "cell_type": "code",
   "execution_count": null,
   "id": "bfed1da8",
   "metadata": {},
   "outputs": [],
   "source": [
    "# paths\n",
    "cwd = os.getcwd()\n",
    "train_csv = os.path.join(cwd, 'data/Train/train.csv') \n",
    "test_csv = os.path.join(cwd, 'data/Test/test.csv')\n",
    "test_img_dir = os.path.join(cwd, 'data/Test')\n",
    "train_img_dir = os.path.join(cwd, 'data/Train')"
   ]
  },
  {
   "cell_type": "code",
   "execution_count": null,
   "id": "3efb41e2",
   "metadata": {},
   "outputs": [],
   "source": [
    "# load csv / image train data\n",
    "\n",
    "dfTest = pd.read_csv(test_csv, on_bad_lines = 'skip')\n",
    "dfTrain = pd.read_csv(train_csv, on_bad_lines = 'skip')"
   ]
  },
  {
   "cell_type": "code",
   "execution_count": null,
   "id": "84248cdc",
   "metadata": {},
   "outputs": [],
   "source": [
    "# mk all needed files \n",
    "def mk_mask(mask_type):\n",
    "    if mask_type == 'all':\n",
    "        \n",
    "        # load info\n",
    "        test_info = mask_info(test_csv, test_img_dir, transform = None)\n",
    "        train_info = mask_info(train_csv, train_img_dir, transform = None)\n",
    "\n",
    "        # mk bi masks for test and train\n",
    "        mk_binary_mask(test_img_dir, test_info)\n",
    "        mk_binary_mask(train_img_dir, train_info)\n",
    "\n",
    "        # mk color masks for test and train\n",
    "        mk_color_mask(test_img_dir, test_info)\n",
    "        mk_color_mask(train_img_dir, train_info)\n",
    "\n",
    "        # mk final masks for test and train\n",
    "        mk_textmask(test_img_dir, test_info)\n",
    "        mk_textmask(train_img_dir, train_info)\n",
    "    \n",
    "    if mask_type == 'binary':\n",
    "        \n",
    "        # load info\n",
    "        test_info = mask_info(test_csv, test_img_dir, transform = None)\n",
    "        train_info = mask_info(train_csv, train_img_dir, transform = None)\n",
    "\n",
    "        # mk bi masks for test and train\n",
    "        mk_binary_mask(test_img_dir, test_info)\n",
    "        mk_binary_mask(train_img_dir, train_info)     \n",
    "        \n",
    "    if mask_type == 'color':\n",
    "        \n",
    "        # load info\n",
    "        test_info = mask_info(test_csv, test_img_dir, transform = None)\n",
    "        train_info = mask_info(train_csv, train_img_dir, transform = None)\n",
    "        \n",
    "        # mk color masks for test and train\n",
    "        mk_color_mask(test_img_dir, test_info)\n",
    "        mk_color_mask(train_img_dir, train_info)\n",
    "        \n",
    "    #if mask_type == 'gag_color':\n",
    "        \n",
    "    #if mask_type == 'gag_textmask':"
   ]
  },
  {
   "cell_type": "code",
   "execution_count": null,
   "id": "5311bc2f",
   "metadata": {},
   "outputs": [],
   "source": [
    "if __name__ == '__main__':\n",
    "    mk_mask(args.typemask)"
   ]
  }
 ],
 "metadata": {
  "kernelspec": {
   "display_name": "Python 3 (ipykernel)",
   "language": "python",
   "name": "python3"
  },
  "language_info": {
   "codemirror_mode": {
    "name": "ipython",
    "version": 3
   },
   "file_extension": ".py",
   "mimetype": "text/x-python",
   "name": "python",
   "nbconvert_exporter": "python",
   "pygments_lexer": "ipython3",
   "version": "3.9.7"
  }
 },
 "nbformat": 4,
 "nbformat_minor": 5
}

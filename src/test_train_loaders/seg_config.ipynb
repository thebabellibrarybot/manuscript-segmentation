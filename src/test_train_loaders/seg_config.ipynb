{
 "cells": [
  {
   "cell_type": "code",
   "execution_count": 1,
   "id": "be831d18",
   "metadata": {},
   "outputs": [],
   "source": [
    "import os\n",
    "import torch\n",
    "import torchvision.transforms as tf\n",
    "\n"
   ]
  },
  {
   "cell_type": "code",
   "execution_count": 2,
   "id": "6742f1ef",
   "metadata": {},
   "outputs": [],
   "source": [
    "# stuff / out\n",
    "\n",
    "INPUT_IMAGE_HEIGHT, INPUT_IMAGE_WIDTH = 224, 224\n",
    "\n",
    "BASE_OUT = '/home/mumbot/tombs/fasterRCNN/sem_segment/out/'\n",
    "MODEL_PATH = os.path.join(BASE_OUT, 'mod.torch')\n",
    "PLOT_PATH = os.path.join(BASE_OUT, 'plot.png')\n",
    "\n"
   ]
  },
  {
   "cell_type": "code",
   "execution_count": 3,
   "id": "4b42c95d",
   "metadata": {},
   "outputs": [],
   "source": [
    "# paths\n",
    "\n",
    "Test_GTMASK = 'Test/color_masks/'\n",
    "Test_GTIMG = 'Test/img_orgin/'\n",
    "Test_GTCSV = 'Test/test.csv'\n",
    "Train_GTMASK = 'Train/color_masks'\n",
    "Train_GTIMG = 'Train/img_orgin/'\n",
    "Train_GTCSV = 'Train/train.csv'\n",
    "BASE_OUT = 'out/'\n",
    "Test_PATHS = os.path.join(BASE_OUT, 'tests.txt')\n",
    "\n"
   ]
  },
  {
   "cell_type": "code",
   "execution_count": 4,
   "id": "d10c2465",
   "metadata": {},
   "outputs": [],
   "source": [
    "# device\n",
    "\n",
    "DEVICE = \"cuda\" if torch.cuda.is_available() else \"cpu\"\n",
    "PIN_MEMORY = True if DEVICE == \"cuda\" else False \n"
   ]
  },
  {
   "cell_type": "code",
   "execution_count": 5,
   "id": "a060bf56",
   "metadata": {},
   "outputs": [],
   "source": [
    "# lr, epochs, and batch size\n",
    "\n",
    "LR = .00001\n",
    "NUM_EPOCHS = 60\n",
    "BATCH_SIZE = 3\n"
   ]
  },
  {
   "cell_type": "code",
   "execution_count": 6,
   "id": "54577b04",
   "metadata": {},
   "outputs": [],
   "source": [
    "# transforms\n",
    "transformImg = tf.Compose([tf.ToPILImage(),\n",
    "                           tf.Resize((224,224)),\n",
    "                           tf.ToTensor(),\n",
    "                          tf.Normalize((0.485, 0.456, 0.406), (0.229, 0.224, 0.225))])\n",
    "transformAnn = tf.Compose([tf.ToPILImage(),\n",
    "                          tf.Resize((224,224)),\n",
    "                          tf.ToTensor()])\n",
    "TRANSFORMS = {'img_trans': transformImg, 'ann_trans': transformAnn}"
   ]
  },
  {
   "cell_type": "code",
   "execution_count": 7,
   "id": "706f2ae3",
   "metadata": {},
   "outputs": [],
   "source": [
    "# bib\n",
    "\n",
    "\n",
    "# current use how to seg: https://pyimagesearch.com/2021/11/08/u-net-training-image-segmentation-models-in-pytorch/\n",
    "# use for checker fn: https://imgaug.readthedocs.io/en/latest/source/installation.html#installation-in-pip\n",
    "# info on thresholds: https://www.analyticsvidhya.com/blog/2019/04/introduction-image-segmentation-techniques-python/\n",
    "# weight thresholding: https://www.analyticsvidhya.com/blog/2017/06/architecture-of-convolutional-neural-networks-simplified-demystified/?utm_source=blog&utm_medium=image-segmentation-article\n",
    "# ^^^^ *** ^^^^\n",
    "# future use how to ocr: https://deepayan137.github.io/blog/markdown/2020/08/29/building-ocr.html"
   ]
  },
  {
   "cell_type": "code",
   "execution_count": null,
   "id": "4d56917a",
   "metadata": {},
   "outputs": [],
   "source": []
  }
 ],
 "metadata": {
  "kernelspec": {
   "display_name": "Python 3 (ipykernel)",
   "language": "python",
   "name": "python3"
  },
  "language_info": {
   "codemirror_mode": {
    "name": "ipython",
    "version": 3
   },
   "file_extension": ".py",
   "mimetype": "text/x-python",
   "name": "python",
   "nbconvert_exporter": "python",
   "pygments_lexer": "ipython3",
   "version": "3.9.7"
  }
 },
 "nbformat": 4,
 "nbformat_minor": 5
}

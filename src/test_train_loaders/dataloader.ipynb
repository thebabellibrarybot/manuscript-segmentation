{
 "cells": [
  {
   "cell_type": "code",
   "execution_count": 1,
   "id": "9a08e1d5",
   "metadata": {},
   "outputs": [],
   "source": [
    "import pandas as pd\n",
    "import numpy as np\n",
    "import matplotlib as mp\n",
    "from torch.utils.data import Dataset\n",
    "from torch.utils.data import DataLoader\n",
    "import PIL\n",
    "from PIL import Image, ImageOps\n",
    "import seg_config\n",
    "import torch\n",
    "import glob\n",
    "import os\n",
    "import imgaug\n",
    "import torchvision.transforms as tf\n"
   ]
  },
  {
   "cell_type": "code",
   "execution_count": 2,
   "id": "d980dc51",
   "metadata": {},
   "outputs": [],
   "source": [
    "#df = pd.read_csv(seg_config.Train_GTCSV, on_bad_lines = 'skip')\n",
    "\n",
    "\n",
    "class dataloaderseg(torch.utils.data.Dataset):\n",
    "    \n",
    "    def __init__(self, mask_path, image_path, transform = None):\n",
    "        self.img_files = glob.glob(os.path.join(image_path, '*.png'))\n",
    "        self.mask_files = []\n",
    "        for img_path in self.img_files:\n",
    "            self.mask_files.append(os.path.join(mask_path, os.path.basename(img_path)))\n",
    "        self.transform = transform\n",
    "\n",
    "    def __len__(self):\n",
    "        return len(self.img_files)\n",
    "    \n",
    "    def __getitem__(self, idx):\n",
    "        mask_path = self.img_files[idx]\n",
    "        img_path = self.mask_files[idx]\n",
    "        data = (np.array(Image.open(img_path).convert('RGB')))\n",
    "        mask = (np.array(Image.open(mask_path)))\n",
    "        \n",
    "        \n",
    "        if self.transform:\n",
    "            data = self.transform['img_trans'](data)\n",
    "            mask = self.transform['ann_trans'](mask)\n",
    "            \n",
    "        sample = {'img_data': data, 'label_data': mask}\n",
    "        return sample\n",
    "        \n",
    "        \n",
    "        "
   ]
  },
  {
   "cell_type": "code",
   "execution_count": 3,
   "id": "bdb0182b",
   "metadata": {},
   "outputs": [],
   "source": [
    "#path = 'Test/img_orgin/'\n",
    "#for fi in os.listdir(ppath):\n",
    "#    print(fi)\n",
    "#    old = os.path.join(ppath, fi)\n",
    "#    new = old.replace('.jpg','.png')\n",
    "#    os.rename(old, new)\n",
    "#    print(old, 'renamed: ', new)"
   ]
  },
  {
   "cell_type": "code",
   "execution_count": 4,
   "id": "ff62bf78",
   "metadata": {},
   "outputs": [],
   "source": [
    "# check fn before transforms\n",
    "#import matplotlib.pyplot as plt\n",
    "\n",
    "#ds = dataloaderseg(seg_config.Test_GTIMG, seg_config.Test_GTMASK, transform = None)\n",
    "#for i, d in enumerate(ds):\n",
    " #  print(d['img_data'].shape, 'img_data', '\\n', d['label_data'].shape, 'label data')\n",
    " #   label_d = (d['label_data'])\n",
    " #   print(np.unique(label_d))\n",
    " #   plt.show(label_d)\n",
    " #   if i == 2:\n",
    " #       break\n",
    "    \n",
    "\n",
    "    \n",
    "    "
   ]
  },
  {
   "cell_type": "code",
   "execution_count": 5,
   "id": "f97de8d7",
   "metadata": {},
   "outputs": [],
   "source": [
    "#transformImg = tf.Compose([tf.ToPILImage(),\n",
    "#                           tf.Resize((224,224)),\n",
    "#                           tf.ToTensor(),\n",
    "#                          tf.Normalize((0.485, 0.456, 0.406), (0.229, 0.224, 0.225))])\n",
    "#transformAnn = tf.Compose([tf.ToPILImage(),\n",
    "#                          tf.Resize((224,224)),\n",
    "#                          tf.ToTensor()])\n",
    "#transforms = {'img_trans': transformImg, 'ann_trans': transformAnn}\n",
    "#print(transforms)\n"
   ]
  },
  {
   "cell_type": "code",
   "execution_count": 6,
   "id": "801c4196",
   "metadata": {},
   "outputs": [],
   "source": [
    "#trans_ds = dataloaderseg(seg_config.Train_GTIMG, seg_config.Train_GTMASK, transform = transforms)\n",
    "#for d in trans_ds:\n",
    "#    print(d['img_data'].shape, d['label_data'].shape)"
   ]
  },
  {
   "cell_type": "code",
   "execution_count": 7,
   "id": "18a37414",
   "metadata": {},
   "outputs": [],
   "source": [
    "#trainLoader = DataLoader(trans_ds,\n",
    "#                         shuffle = True,\n",
    "#                         batch_size = seg_config.BATCH_SIZE,\n",
    "#                         pin_memory = seg_config.PIN_MEMORY)\n",
    "#for t in trainLoader:\n",
    "#    print(t['img_data'].dtype)\n",
    "#    print(t['label_data'].dtype)"
   ]
  },
  {
   "cell_type": "code",
   "execution_count": null,
   "id": "bad52c07",
   "metadata": {},
   "outputs": [],
   "source": []
  },
  {
   "cell_type": "code",
   "execution_count": null,
   "id": "ac951c6d",
   "metadata": {},
   "outputs": [],
   "source": []
  }
 ],
 "metadata": {
  "kernelspec": {
   "display_name": "Python 3 (ipykernel)",
   "language": "python",
   "name": "python3"
  },
  "language_info": {
   "codemirror_mode": {
    "name": "ipython",
    "version": 3
   },
   "file_extension": ".py",
   "mimetype": "text/x-python",
   "name": "python",
   "nbconvert_exporter": "python",
   "pygments_lexer": "ipython3",
   "version": "3.9.7"
  }
 },
 "nbformat": 4,
 "nbformat_minor": 5
}

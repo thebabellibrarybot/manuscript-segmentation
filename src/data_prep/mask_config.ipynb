{
 "cells": [
  {
   "cell_type": "code",
   "execution_count": 33,
   "id": "fdd3e1e4",
   "metadata": {},
   "outputs": [],
   "source": [
    "import os\n",
    "import pandas as pd\n"
   ]
  },
  {
   "cell_type": "code",
   "execution_count": 34,
   "id": "ee730eea",
   "metadata": {},
   "outputs": [
    {
     "name": "stdout",
     "output_type": "stream",
     "text": [
      "/home/mumbot/tombs/fasterRCNN/deeplabv3_L_DS\n"
     ]
    }
   ],
   "source": [
    "# file paths\n",
    "BASE = os.getcwd().split('/')[:-2]\n",
    "BASE = '/'.join(BASE)\n",
    "print(BASE)\n",
    "IMGFOLDER = os.path.join(BASE, 'data/Test/')\n",
    "COLORMASKFOLDER = os.path.join(BASE, 'data/Test/color_masks/')\n",
    "BIMASKFOLDER = os.path.join(BASE, 'data/Test/bi_coded_masks/')\n",
    "CSVFILE = os.path.join(BASE, 'data/Test/test.csv')\n",
    "IMGOUT = os.path.join(BASE, 'data/Test/imgs/')\n",
    "FINALMASKOUT = os.path.join(BASE, 'data/Test/masks/')\n",
    "\n",
    "TRAIN_IMGFOLDER = os.path.join(BASE, 'data/Train/')\n",
    "TRAIN_COLORMASKFOLDER = os.path.join(BASE, 'data/Train/color_masks/')\n",
    "TRAIN_BIMASKFOLDER = os.path.join(BASE, 'data/Train/bi_coded_masks/')\n",
    "TRAIN_CSVFILE = os.path.join(BASE, 'data/Train/train.csv')\n",
    "TRAIN_IMGOUT = os.path.join(BASE, 'data/Train/imgs/')\n",
    "TRAIN_FINALMASKOUT = os.path.join(BASE, 'data/Train/masks/')\n"
   ]
  },
  {
   "cell_type": "code",
   "execution_count": 3,
   "id": "c76976d9",
   "metadata": {},
   "outputs": [],
   "source": [
    "# setup \n",
    "\n",
    "# current works best for BnW images\n",
    "\n",
    "THRESHOLD = 225\n",
    "MAXVALUES = 128\n"
   ]
  },
  {
   "cell_type": "code",
   "execution_count": 4,
   "id": "f2a1c7af",
   "metadata": {},
   "outputs": [],
   "source": [
    "# label names\n",
    "\n",
    "LABEL1 = 'margin'\n",
    "LABEL2 = 'text'\n",
    "LABEL3 = 'image'\n",
    "LABEL4 = 'noise'\n",
    "LABEL5 = 'background'\n"
   ]
  },
  {
   "cell_type": "code",
   "execution_count": 5,
   "id": "b36e9c0a",
   "metadata": {},
   "outputs": [],
   "source": [
    "# bib ext\n",
    "\n",
    "# https://www.tutorialspoint.com/how-to-apply-a-mask-on-the-matrix-in-matplotlib-imshow\n",
    "# https://matplotlib.org/3.5.0/gallery/images_contours_and_fields/image_masked.html\n",
    "# https://stackoverflow.com/questions/56766307/plotting-with-numpy-masked-arrays\n",
    "# https://stackoverflow.com/questions/31877353/overlay-an-image-segmentation-with-numpy-and-matplotlib\n",
    "# https://matplotlib.org/stable/gallery/images_contours_and_fields/image_masked.html\n",
    "# https://matplotlib.org/3.4.3/tutorials/intermediate/artists.html?highlight=layer%20image\n",
    "\n",
    "# https://www.blog.pythonlibrary.org/2021/02/23/drawing-shapes-on-images-with-python-and-pillow/\n",
    "# https://note.nkmk.me/en/python-pillow-composite/"
   ]
  }
 ],
 "metadata": {
  "kernelspec": {
   "display_name": "Python 3 (ipykernel)",
   "language": "python",
   "name": "python3"
  },
  "language_info": {
   "codemirror_mode": {
    "name": "ipython",
    "version": 3
   },
   "file_extension": ".py",
   "mimetype": "text/x-python",
   "name": "python",
   "nbconvert_exporter": "python",
   "pygments_lexer": "ipython3",
   "version": "3.9.7"
  }
 },
 "nbformat": 4,
 "nbformat_minor": 5
}
